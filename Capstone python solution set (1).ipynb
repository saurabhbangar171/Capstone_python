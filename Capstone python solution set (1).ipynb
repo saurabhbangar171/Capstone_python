{
 "cells": [
  {
   "cell_type": "code",
   "execution_count": 76,
   "id": "feb54cca-2122-412e-a9f4-ec62920467ea",
   "metadata": {},
   "outputs": [
    {
     "name": "stdout",
     "output_type": "stream",
     "text": [
      "      ID     Project       Cost    Status             Name Gender      City  \\\n",
      "0   A001   Project 1  1002000.0  Finished       John Alter      M     Paris   \n",
      "1   A002   Project 2  2000000.0   Ongoing  Alice Luxumberg      F    London   \n",
      "2   A003   Project 3  4500000.0  Finished    Tom Sabestine      M    Berlin   \n",
      "3   A004   Project 4  5500000.0   Ongoing       Nina Adgra      F  New York   \n",
      "4   A005   Project 5        NaN  Finished        Amy Johny      F    Madrid   \n",
      "5   A002   Project 6   680000.0    Failed  Alice Luxumberg      F    London   \n",
      "6   A005   Project 7   400000.0  Finished        Amy Johny      F    Madrid   \n",
      "7   A003   Project 8   350000.0    Failed    Tom Sabestine      M    Berlin   \n",
      "8   A001   Project 9        NaN   Ongoing       John Alter      M     Paris   \n",
      "9   A003  Project 10   300000.0  Finished    Tom Sabestine      M    Berlin   \n",
      "10  A001  Project 11  2000000.0    Failed       John Alter      M     Paris   \n",
      "11  A004  Project 12  1000000.0   Ongoing       Nina Adgra      F  New York   \n",
      "12  A004  Project 13  3000000.0  Finished       Nina Adgra      F  New York   \n",
      "13  A005  Project 14   200000.0  Finished        Amy Johny      F    Madrid   \n",
      "\n",
      "    Age  Designation Level  \n",
      "0    25                  2  \n",
      "1    27                  2  \n",
      "2    29                  3  \n",
      "3    31                  2  \n",
      "4    30                  3  \n",
      "5    27                  2  \n",
      "6    30                  3  \n",
      "7    29                  3  \n",
      "8    25                  2  \n",
      "9    29                  3  \n",
      "10   25                  2  \n",
      "11   31                  2  \n",
      "12   31                  2  \n",
      "13   30                  3  \n"
     ]
    }
   ],
   "source": [
    "import pandas as pd\n",
    "import numpy as np\n",
    "#Creating Project Dataframe\n",
    "project_data = {\n",
    "    \"ID\": [\"A001\", \"A002\", \"A003\", \"A004\", \"A005\", \"A002\", \"A005\", \"A003\", \"A001\", \"A003\", \"A001\", \"A004\", \"A004\", \"A005\"],\n",
    "    \"Project\": [\"Project 1\", \"Project 2\", \"Project 3\", \"Project 4\", \"Project 5\", \"Project 6\", \"Project 7\", \"Project 8\", \"Project 9\", \n",
    "                \"Project 10\", \"Project 11\", \"Project 12\", \"Project 13\", \"Project 14\"],\n",
    "    \"Cost\": [1002000, 2000000, 4500000, 5500000, None, 680000, 400000, 350000, None, 300000, 2000000, 1000000, 3000000, 200000],\n",
    "    \"Status\": [\"Finished\", \"Ongoing\", \"Finished\", \"Ongoing\", \"Finished\", \"Failed\", \"Finished\", \"Failed\", \"Ongoing\", \"Finished\", \"Failed\", \n",
    "               \"Ongoing\", \"Finished\", \"Finished\"]\n",
    "}\n",
    "df_project = pd.DataFrame(project_data)\n",
    "\n",
    "#Creating Employee Dataframe\n",
    "employee_data = {\n",
    "    \"ID\": [\"A001\", \"A002\", \"A003\", \"A004\", \"A005\"],\n",
    "    \"Name\": [\"John Alter\", \"Alice Luxumberg\", \"Tom Sabestine\", \"Nina Adgra\", \"Amy Johny\"],\n",
    "    \"Gender\": [\"M\", \"F\", \"M\", \"F\", \"F\"],\n",
    "    \"City\": [\"Paris\", \"London\", \"Berlin\", \"New York\", \"Madrid\"],\n",
    "    \"Age\": [25, 27, 29, 31, 30]\n",
    "}\n",
    "df_employee = pd.DataFrame(employee_data)\n",
    "\n",
    "#Creating Seniority DataFrame\n",
    "seniority_data = {\n",
    "    \"ID\": [\"A001\", \"A002\", \"A003\", \"A004\", \"A005\"],\n",
    "    \"Designation Level\": [2, 2, 3, 2, 3]\n",
    "}\n",
    "df_seniority = pd.DataFrame(seniority_data)\n",
    "\n",
    "#final statement and merging data on basis of column ID\n",
    "Final = df_project.merge(df_employee, on=\"ID\").merge(df_seniority, on=\"ID\")\n",
    "# Printing Final merged dataframe results with updated data\n",
    "print(Final)"
   ]
  },
  {
   "cell_type": "code",
   "execution_count": 50,
   "id": "1593653a-ee77-44a0-8c3d-4f8d4915fdfa",
   "metadata": {},
   "outputs": [
    {
     "name": "stdout",
     "output_type": "stream",
     "text": [
      "Missing values replaced successfully using running average!\n"
     ]
    }
   ],
   "source": [
    "import pandas as pd\n",
    "#Creating data project frame\n",
    "df_project = pd.read_csv(\"Project_Data.csv\") #Reading the file into dataframe\n",
    "\n",
    "#replacing zero in the cost column with NAN\n",
    "df_project[\"Cost\"] = df_project[\"Cost\"].replace(0, pd.NA)\n",
    "\n",
    "\n",
    "running_sum = 0\n",
    "count = 0\n",
    "\n",
    "#Performing iterations for for each row\n",
    "for i in range(len(df_project)):\n",
    "    #checking if Cost value is missing\n",
    "    if pd.isnull(df_project.at[i, \"Cost\"]):\n",
    "        #if there are valid previous values, replace missing values with running average\n",
    "        if count > 0: \n",
    "            df_project.at[i, \"Cost\"] = running_sum / count \n",
    "    else:\n",
    "        #updating the runningsum and count with the valid cost value\n",
    "        running_sum += df_project.at[i, \"Cost\"]\n",
    "        count += 1\n",
    "#Saving the updated dataframe to new csv file\n",
    "df_project.to_csv(\"Project_Data_Updated.csv\", index=False)\n",
    "\n",
    "#Printing message when successful\n",
    "print(\"Missing values replaced successfully using running average!\")"
   ]
  },
  {
   "cell_type": "code",
   "execution_count": 52,
   "id": "f30de1b8-1a34-4b69-9f02-9fff92b5543a",
   "metadata": {},
   "outputs": [
    {
     "name": "stdout",
     "output_type": "stream",
     "text": [
      "  First Name  Last Name\n",
      "0       John      Alter\n",
      "1      Alice  Luxumberg\n",
      "2        Tom  Sabestine\n",
      "3       Nina      Adgra\n",
      "4        Amy      Johny\n"
     ]
    }
   ],
   "source": [
    "import pandas as pd\n",
    "#Creating Dictionary with single column\n",
    "data = {'name': [\"John Alter\", \"Alice Luxumberg\", \"Tom Sabestine\", \"Nina Adgra\", \"Amy Johny\"]}\n",
    "#Creating Pandas Dataframe\n",
    "df = pd.DataFrame(data)\n",
    "#Splitting the name column as First and Last Names\n",
    "df[['First Name', 'Last Name']] = df['name'].str.split(n=1, expand=True)\n",
    "#Dropping original column as no longer needed\n",
    "df.drop(columns=['name'], inplace=True)\n",
    "#Printing updated data frame\n",
    "print(df)"
   ]
  },
  {
   "cell_type": "code",
   "execution_count": 66,
   "id": "4e0cf609-d2cc-4746-bf13-ca192a9cdb0a",
   "metadata": {},
   "outputs": [
    {
     "name": "stdout",
     "output_type": "stream",
     "text": [
      "      ID     Project       Cost    Status             Name Gender      City  \\\n",
      "0   A001   Project 1  1002000.0  Finished       John Alter      M     Paris   \n",
      "1   A002   Project 2  2000000.0   Ongoing  Alice Luxumberg      F    London   \n",
      "2   A003   Project 3  4500000.0  Finished    Tom Sabestine      M    Berlin   \n",
      "3   A004   Project 4  5500000.0   Ongoing       Nina Adgra      F  New York   \n",
      "4   A005   Project 5        NaN  Finished        Amy Johny      F    Madrid   \n",
      "5   A002   Project 6   680000.0    Failed  Alice Luxumberg      F    London   \n",
      "6   A005   Project 7   400000.0  Finished        Amy Johny      F    Madrid   \n",
      "7   A003   Project 8   350000.0    Failed    Tom Sabestine      M    Berlin   \n",
      "8   A001   Project 9        NaN   Ongoing       John Alter      M     Paris   \n",
      "9   A003  Project 10   300000.0  Finished    Tom Sabestine      M    Berlin   \n",
      "10  A001  Project 11  2000000.0    Failed       John Alter      M     Paris   \n",
      "11  A004  Project 12  1000000.0   Ongoing       Nina Adgra      F  New York   \n",
      "12  A004  Project 13  3000000.0  Finished       Nina Adgra      F  New York   \n",
      "13  A005  Project 14   200000.0  Finished        Amy Johny      F    Madrid   \n",
      "\n",
      "    Age  Designation Level     Bonus  \n",
      "0    25                  2   50100.0  \n",
      "1    27                  2       0.0  \n",
      "2    29                  3  225000.0  \n",
      "3    31                  2       0.0  \n",
      "4    30                  3       NaN  \n",
      "5    27                  2       0.0  \n",
      "6    30                  3   20000.0  \n",
      "7    29                  3       0.0  \n",
      "8    25                  2       0.0  \n",
      "9    29                  3   15000.0  \n",
      "10   25                  2       0.0  \n",
      "11   31                  2       0.0  \n",
      "12   31                  2  150000.0  \n",
      "13   30                  3   10000.0  \n"
     ]
    }
   ],
   "source": [
    "#5% bonus concerning project cost only to employees who have finished the projects else 0.\n",
    "Final[\"Bonus\"] = Final.apply(lambda row: row[\"Cost\"] * 0.05 if row[\"Status\"] == \"Finished\" else 0, axis=1)\n",
    "#Printing updated results \n",
    "print(Final)"
   ]
  },
  {
   "cell_type": "code",
   "execution_count": 36,
   "id": "b48445b6-cc09-41da-9f41-1f4e95331d50",
   "metadata": {},
   "outputs": [
    {
     "name": "stdout",
     "output_type": "stream",
     "text": [
      "      ID     Project       Cost    Status             Name Gender      City  \\\n",
      "0   A001   Project 1  1002000.0  Finished       John Alter      M     Paris   \n",
      "1   A002   Project 2  2000000.0   Ongoing  Alice Luxumberg      F    London   \n",
      "2   A003   Project 3  4500000.0  Finished    Tom Sabestine      M    Berlin   \n",
      "3   A004   Project 4  5500000.0   Ongoing       Nina Adgra      F  New York   \n",
      "4   A005   Project 5        NaN  Finished        Amy Johny      F    Madrid   \n",
      "5   A002   Project 6   680000.0    Failed  Alice Luxumberg      F    London   \n",
      "6   A005   Project 7   400000.0  Finished        Amy Johny      F    Madrid   \n",
      "7   A003   Project 8   350000.0    Failed    Tom Sabestine      M    Berlin   \n",
      "8   A001   Project 9        NaN   Ongoing       John Alter      M     Paris   \n",
      "9   A003  Project 10   300000.0  Finished    Tom Sabestine      M    Berlin   \n",
      "10  A001  Project 11  2000000.0    Failed       John Alter      M     Paris   \n",
      "11  A004  Project 12  1000000.0   Ongoing       Nina Adgra      F  New York   \n",
      "12  A004  Project 13  3000000.0  Finished       Nina Adgra      F  New York   \n",
      "13  A005  Project 14   200000.0  Finished        Amy Johny      F    Madrid   \n",
      "\n",
      "    Age  Designation Level     Bonus  \n",
      "0    25                  2   50100.0  \n",
      "1    27                  2       0.0  \n",
      "2    29                  3  225000.0  \n",
      "3    31                  2       0.0  \n",
      "4    30                  3       NaN  \n",
      "5    27                  2       0.0  \n",
      "6    30                  3   20000.0  \n",
      "7    29                  3       0.0  \n",
      "8    25                  2       0.0  \n",
      "9    29                  3   15000.0  \n",
      "10   25                  2       0.0  \n",
      "11   31                  2       0.0  \n",
      "12   31                  2  150000.0  \n",
      "13   30                  3   10000.0  \n"
     ]
    }
   ],
   "source": [
    "#Decreasing of Designation by level 1 who failed in projects \n",
    "Final.loc[Final[\"Status\"] == \"Fail\", \"Designation Level\"] -= 1\n",
    "\n",
    "#Filtering/Deleting rows having designation greater than 4\n",
    "Final = Final[Final[\"Designation Level\"] <= 4]\n",
    "\n",
    "#Printing final results \n",
    "print(Final)"
   ]
  },
  {
   "cell_type": "code",
   "execution_count": 68,
   "id": "f5ccbcdf-fad8-4ed7-bbf4-c8dfc213d362",
   "metadata": {},
   "outputs": [
    {
     "name": "stdout",
     "output_type": "stream",
     "text": [
      "     ID    Project       Cost    Status             Name      City  Age  \\\n",
      "0  A001  Project 1  1002000.0  Finished       John Alter     Paris   25   \n",
      "1  A002  Project 2  2000000.0   Ongoing  Alice Luxumberg    London   27   \n",
      "2  A003  Project 3  4500000.0  Finished    Tom Sabestine    Berlin   29   \n",
      "3  A004  Project 4  5500000.0   Ongoing       Nina Adgra  New York   31   \n",
      "4  A005  Project 5        NaN  Finished        Amy Johny    Madrid   30   \n",
      "\n",
      "   Designation Level     Bonus  First Name  \n",
      "0                  2   50100.0    Mr. John  \n",
      "1                  2       0.0  Mrs. Alice  \n",
      "2                  3  225000.0     Mr. Tom  \n",
      "3                  2       0.0   Mrs. Nina  \n",
      "4                  3       NaN    Mrs. Amy  \n"
     ]
    }
   ],
   "source": [
    "# Splitting the Name column to get the first name only\n",
    "Final[\"First Name\"] = Final[\"Name\"].apply(lambda x: x.split()[0])\n",
    "\n",
    "# Adding Mr. or Mrs. based on Gender\n",
    "if \"First Name\" in Final.columns and \"Gender\" in Final.columns:\n",
    "    Final[\"First Name\"] = Final.apply(\n",
    "        lambda row: f\"Mr. {row['First Name']}\" if row[\"Gender\"] == \"M\" else f\"Mrs. {row['First Name']}\", axis=1\n",
    "    )\n",
    "    # Dropping the Gender column\n",
    "    Final.drop(columns=[\"Gender\"], inplace=True)\n",
    "else:\n",
    "    print(\"Column names not found. Check DataFrame structure.\")\n",
    "    \n",
    "# Print the first few rows to verify changes\n",
    "print(Final.head()) "
   ]
  },
  {
   "cell_type": "code",
   "execution_count": 70,
   "id": "d5c87d1f-4ee5-4633-b35d-49839522e3ad",
   "metadata": {},
   "outputs": [
    {
     "name": "stdout",
     "output_type": "stream",
     "text": [
      "     ID    Project       Cost    Status             Name      City  Age  \\\n",
      "0  A001  Project 1  1002000.0  Finished       John Alter     Paris   25   \n",
      "1  A002  Project 2  2000000.0   Ongoing  Alice Luxumberg    London   27   \n",
      "2  A003  Project 3  4500000.0  Finished    Tom Sabestine    Berlin   29   \n",
      "3  A004  Project 4  5500000.0   Ongoing       Nina Adgra  New York   31   \n",
      "4  A005  Project 5        NaN  Finished        Amy Johny    Madrid   30   \n",
      "\n",
      "   Designation Level     Bonus  First Name  \n",
      "0                  2   50100.0    Mr. John  \n",
      "1                  2       0.0  Mrs. Alice  \n",
      "2                  3  225000.0     Mr. Tom  \n",
      "3                  3       0.0   Mrs. Nina  \n",
      "4                  4       NaN    Mrs. Amy  \n"
     ]
    }
   ],
   "source": [
    "# Check if required columns exist\n",
    "if \"Age\" in Final.columns and \"Designation Level\" in Final.columns:\n",
    "    # Increase Designation Level by 1 for employees older than 29\n",
    "    Final.loc[Final[\"Age\"] > 29, \"Designation Level\"] += 1\n",
    "else:\n",
    "    print(\"Column names not found. Check DataFrame structure.\")\n",
    "\n",
    "# Print the updated results\n",
    "print(Final.head())"
   ]
  },
  {
   "cell_type": "code",
   "execution_count": 72,
   "id": "78ca04ec-bccc-46e5-bdfc-e8621b7ea569",
   "metadata": {},
   "outputs": [
    {
     "name": "stdout",
     "output_type": "stream",
     "text": [
      "     ID First Name  Total Cost\n",
      "0  A001       John   3002000.0\n",
      "1  A002      Alice   2680000.0\n",
      "2  A003        Tom   5150000.0\n",
      "3  A004       Nina   9500000.0\n",
      "4  A005        Amy    600000.0\n"
     ]
    }
   ],
   "source": [
    "# Splitting \"Name\" column into \"First Name\" and \"Last Name\"\n",
    "Final[['First Name', 'Last Name']] = Final['Name'].str.split(n=1, expand=True)\n",
    "\n",
    "# Grouping by ID and summing the \"Cost\" column\n",
    "TotalProjCost = Final.groupby([\"ID\", \"First Name\"])[\"Cost\"].sum().reset_index()\n",
    "\n",
    "# Renaming the column for clarity\n",
    "TotalProjCost.rename(columns={\"Cost\": \"Total Cost\"}, inplace=True)\n",
    "\n",
    "# Printing the new DataFrame\n",
    "print(TotalProjCost)"
   ]
  },
  {
   "cell_type": "code",
   "execution_count": 74,
   "id": "6f8673d3-c803-4bbe-916d-23986c83238d",
   "metadata": {},
   "outputs": [
    {
     "name": "stdout",
     "output_type": "stream",
     "text": [
      "      ID     Project       Cost    Status             Name      City  Age  \\\n",
      "1   A002   Project 2  2000000.0   Ongoing  Alice Luxumberg    London   27   \n",
      "3   A004   Project 4  5500000.0   Ongoing       Nina Adgra  New York   31   \n",
      "5   A002   Project 6   680000.0    Failed  Alice Luxumberg    London   27   \n",
      "11  A004  Project 12  1000000.0   Ongoing       Nina Adgra  New York   31   \n",
      "12  A004  Project 13  3000000.0  Finished       Nina Adgra  New York   31   \n",
      "\n",
      "    Designation Level     Bonus First Name  Last Name  \n",
      "1                   2       0.0      Alice  Luxumberg  \n",
      "3                   3       0.0       Nina      Adgra  \n",
      "5                   2       0.0      Alice  Luxumberg  \n",
      "11                  3       0.0       Nina      Adgra  \n",
      "12                  3  150000.0       Nina      Adgra  \n"
     ]
    }
   ],
   "source": [
    "# Filtering employees whose \"City\" contains the letter \"o\" (case-insensitive)\n",
    "employees_with_o_city = Final[Final[\"City\"].str.contains(\"o\", case=False, na=False)]\n",
    "\n",
    "# Printing the filtered DataFrame\n",
    "print(employees_with_o_city)"
   ]
  },
  {
   "cell_type": "code",
   "execution_count": null,
   "id": "a83e06b4-f30e-43a1-92e1-a76bf3aa35b6",
   "metadata": {},
   "outputs": [],
   "source": []
  }
 ],
 "metadata": {
  "kernelspec": {
   "display_name": "Python [conda env:base] *",
   "language": "python",
   "name": "conda-base-py"
  },
  "language_info": {
   "codemirror_mode": {
    "name": "ipython",
    "version": 3
   },
   "file_extension": ".py",
   "mimetype": "text/x-python",
   "name": "python",
   "nbconvert_exporter": "python",
   "pygments_lexer": "ipython3",
   "version": "3.12.7"
  }
 },
 "nbformat": 4,
 "nbformat_minor": 5
}
